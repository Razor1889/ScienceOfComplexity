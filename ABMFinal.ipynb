{
 "cells": [
  {
   "cell_type": "markdown",
   "id": "2cbc0b11-5850-45cc-8659-1a024459fd49",
   "metadata": {},
   "source": [
    "Agent-Based Modelling of Consumer Decisions Regarding Game Purchases\n",
    "-------------------------------\n"
   ]
  },
  {
   "cell_type": "markdown",
   "id": "8a47dc4b-8397-4744-a633-3194db9363ca",
   "metadata": {},
   "source": [
    "This model is developed as a tool for game development companies to identify the general popularity behind different game characteristics. The model incorporates real-life purchase decisions by weighing preferences of consumers against the overall weight of video game characteristics. Additionally, The model includes variability in consumer budget as well."
   ]
  },
  {
   "cell_type": "code",
   "execution_count": 1,
   "id": "c6754122-5359-4c28-992b-7bd5706a0499",
   "metadata": {},
   "outputs": [],
   "source": [
    "import matplotlib.pyplot as plt\n",
    "import numpy as np\n",
    "\n",
    "class Consumer:\n",
    "    def __init__(self, graphics_pref, gameplay_pref, story_pref, price_pref, budget):\n",
    "        #Basic consumer preferences\n",
    "        self.graphics_pref = graphics_pref\n",
    "        self.gameplay_pref = gameplay_pref\n",
    "        self.story_pref = story_pref\n",
    "        self.price_pref = price_pref\n",
    "        self.budget = budget\n",
    "        self.game = None #Consumer has not purchased initially\n",
    "\n",
    "    def choose_game(self, games):\n",
    "        #Calculate score for EACH game and store in an array\n",
    "        scores = []\n",
    "        for game in games:\n",
    "            graphics_score = self.graphics_pref * game.graphics\n",
    "            gameplay_score = self.gameplay_pref * game.gameplay\n",
    "            story_score = self.story_pref * game.story\n",
    "            price_score = self.price_pref * (1 - game.price / self.budget)\n",
    "            score = graphics_score + gameplay_score + story_score + price_score\n",
    "            scores.append(score)\n",
    "\n",
    "        #Choose (choose is an index) game with MAX score\n",
    "        choose = scores.index(max(scores))\n",
    "        self.game = games[choose]\n",
    "\n",
    "class Game:\n",
    "    def __init__(self, graphics, gameplay, story, price):\n",
    "        self.graphics = graphics\n",
    "        self.gameplay = gameplay\n",
    "        self.story = story\n",
    "        self.price = price"
   ]
  },
  {
   "cell_type": "code",
   "execution_count": 2,
   "id": "111ec53f-58af-4cc2-87e3-96e9867dd9b8",
   "metadata": {},
   "outputs": [
    {
     "data": {
      "image/png": "[encoded data removed]",
      "text/plain": [
       "<Figure size 640x480 with 1 Axes>"
      ]
     },
     "metadata": {},
     "output_type": "display_data"
    }
   ],
   "source": [
    "#Create 20 Consumers (all prefs random (and uniform) between 0 and 1 with budget being 20 - 100\n",
    "consumers = []\n",
    "for i in range(20):\n",
    "    #create preferences\n",
    "    graphics_pref = np.random.uniform(0, 1)\n",
    "    gameplay_pref = np.random.uniform(0, 1)\n",
    "    story_pref = np.random.uniform(0, 1)\n",
    "    price_pref = np.random.uniform(0, 1)\n",
    "    budget = np.random.randint(20, 100)\n",
    "    #create consumer\n",
    "    consumer = Consumer(graphics_pref, gameplay_pref, story_pref, price_pref, budget)\n",
    "    #add to consumer list\n",
    "    consumers.append(consumer)\n",
    "    \n",
    "\n",
    "#Create 5 Games with random chars\n",
    "#This can be interchanged with hardcoded values to have a direct connection to steam games\n",
    "#price has to be between 10 and 60.\n",
    "games = []\n",
    "for i in range(5):\n",
    "    graphics_score = np.random.uniform(0, 1)\n",
    "    gameplay_score = np.random.uniform(0, 1)\n",
    "    story_score = np.random.uniform(0, 1)\n",
    "    price = np.random.randint(10, 60)\n",
    "    #create game\n",
    "    game = Game(graphics_score, gameplay_score, story_score, price)\n",
    "    #add to game list\n",
    "    games.append(game)\n",
    "    \n",
    "    \n",
    "#Run for 10 unit steps\n",
    "for i in range(10):\n",
    "    for consumer in consumers:\n",
    "        consumer.choose_game(games)\n",
    "\n",
    "#Make a graph\n",
    "purchase_counts = np.zeros(len(games))\n",
    "\n",
    "#increment game purchases based on consumer choices\n",
    "for consumer in consumers:\n",
    "    purchase_counts[games.index(consumer.game)] += 1\n",
    "\n",
    "plt.bar(range(len(games)), purchase_counts)\n",
    "plt.xticks(range(len(games)), [f'Game {i+1}' for i in range(len(games))])\n",
    "plt.xlabel('Games')\n",
    "plt.ylabel('Purchases')\n",
    "plt.show()"
   ]
  },
  {
   "cell_type": "code",
   "execution_count": null,
   "id": "80aede74-add7-4feb-9d93-5889dc6cbeba",
   "metadata": {},
   "outputs": [],
   "source": []
  },
  {
   "cell_type": "code",
   "execution_count": null,
   "id": "a5eafc82-3ba6-4903-a554-7ab3927f08e6",
   "metadata": {},
   "outputs": [],
   "source": []
  },
  {
   "cell_type": "code",
   "execution_count": null,
   "id": "2f36ee68-4fe3-4fb6-a0a1-3d15d954174b",
   "metadata": {},
   "outputs": [],
   "source": []
  },
  {
   "cell_type": "code",
   "execution_count": null,
   "id": "ffd8144c-66a8-41b0-b78c-985f74e033e9",
   "metadata": {},
   "outputs": [],
   "source": []
  }
 ],
 "metadata": {
  "kernelspec": {
   "display_name": "Python 3 (ipykernel)",
   "language": "python",
   "name": "python3"
  },
  "language_info": {
   "codemirror_mode": {
    "name": "ipython",
    "version": 3
   },
   "file_extension": ".py",
   "mimetype": "text/x-python",
   "name": "python",
   "nbconvert_exporter": "python",
   "pygments_lexer": "ipython3",
   "version": "3.9.13"
  }
 },
 "nbformat": 4,
 "nbformat_minor": 5
}
